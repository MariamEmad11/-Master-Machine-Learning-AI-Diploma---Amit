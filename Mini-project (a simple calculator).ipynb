{
 "cells": [
  {
   "cell_type": "markdown",
   "id": "42f477d8",
   "metadata": {},
   "source": [
    "# Mini-project (a simple calculator)"
   ]
  },
  {
   "cell_type": "code",
   "execution_count": 1,
   "id": "d7aef000",
   "metadata": {},
   "outputs": [
    {
     "name": "stdout",
     "output_type": "stream",
     "text": [
      "Select a number of an operation. 1.Add , 2.Subtract , 3.Multiply , 4.Divide \n",
      "Enter choice(1/2/3/4): 1\n",
      "Enter first number: 15\n",
      "Enter second number: 5\n",
      "15.0 + 5.0 = 20.0\n",
      "do you want to perform another calculations? 1:yes. , 2:no, please stop.1\n",
      "Enter choice(1/2/3/4): 4\n",
      "Enter first number: 20\n",
      "Enter second number: 4\n",
      "20.0 / 4.0 = 5.0\n",
      "do you want to perform another calculations? 1:yes. , 2:no, please stop.2\n"
     ]
    }
   ],
   "source": [
    "# Method (1)\n",
    "\n",
    "# Function to add two numbers\n",
    "def add(x, y):\n",
    "    return x + y\n",
    "\n",
    "# Function to subtract two numbers\n",
    "def subtract(x, y):\n",
    "    return x - y\n",
    "\n",
    "# Function to multiplies two numbers\n",
    "def multiply(x, y):\n",
    "    return x * y\n",
    "\n",
    "# Function to divide two numbers\n",
    "def divide(x, y):\n",
    "    return x / y\n",
    "\n",
    "\n",
    "print(\"Select a number of an operation. 1.Add , 2.Subtract , 3.Multiply , 4.Divide \")\n",
    "\n",
    "\n",
    "while True:\n",
    "    \n",
    "    choice = input(\"Enter choice(1/2/3/4): \")\n",
    "\n",
    "    if choice in ('1', '2', '3', '4'):\n",
    "        num1 = float(input(\"Enter first number: \"))\n",
    "        num2 = float(input(\"Enter second number: \"))\n",
    "\n",
    "        if choice == '1':\n",
    "            print(num1, \"+\", num2, \"=\", add(num1, num2))\n",
    "\n",
    "        elif choice == '2':\n",
    "            print(num1, \"-\", num2, \"=\", subtract(num1, num2))\n",
    "\n",
    "        elif choice == '3':\n",
    "            print(num1, \"*\", num2, \"=\", multiply(num1, num2))\n",
    "\n",
    "        elif choice == '4':\n",
    "            print(num1, \"/\", num2, \"=\", divide(num1, num2))\n",
    "        \n",
    "        # check if user wants another calculation\n",
    "        # break the while loop if answer is no\n",
    "        next_calculation = input(\"do you want to perform another calculations? 1:yes. , 2:no, please stop.\")\n",
    "        if next_calculation == \"2\":\n",
    "            break\n",
    "    \n",
    "    else:\n",
    "        print(\"Invalid Input\")"
   ]
  },
  {
   "cell_type": "code",
   "execution_count": 2,
   "id": "a2120a80",
   "metadata": {},
   "outputs": [
    {
     "name": "stdout",
     "output_type": "stream",
     "text": [
      "Select a number of an operation. 1.Add , 2.Subtract , 3.Multiply , 4.Divide \n",
      "Enter choice(1/2/3/4): 1\n",
      "Enter first number: 15\n",
      "Enter second number: 5\n",
      "15.0 + 5.0 = 20.0\n",
      "do you want to perform another calculations? 1:yes. , 2:no, please stop.2\n"
     ]
    }
   ],
   "source": [
    "# Method (2)\n",
    "\n",
    "class Calc:\n",
    "    def __init__(self,num1,num2):\n",
    "        self.num1 = num1\n",
    "        self.num2 = num2 \n",
    "    \n",
    "# Function to add two numbers\n",
    "    def add(self):\n",
    "        return self.num1+ self.num2\n",
    "\n",
    "# Function to subtract two numbers\n",
    "    def subtract(self):\n",
    "        return self.num1 - self.num2\n",
    "\n",
    "# Function to multiplies two numbers\n",
    "    def multiply(self):\n",
    "        return self.num1 * self.num1\n",
    "\n",
    "# Function to divide two numbers\n",
    "    def divide(self):\n",
    "        return self.num1 / self.num1\n",
    "    \n",
    "\n",
    "\n",
    "\n",
    "print(\"Select a number of an operation. 1.Add , 2.Subtract , 3.Multiply , 4.Divide \")\n",
    "\n",
    "\n",
    "while True:\n",
    "    \n",
    "    choice = input(\"Enter choice(1/2/3/4): \")\n",
    "\n",
    "    if choice in ('1', '2', '3', '4'):\n",
    "        num1 = float(input(\"Enter first number: \"))\n",
    "        num2 = float(input(\"Enter second number: \"))\n",
    "\n",
    "        if choice == '1':\n",
    "            print(num1, \"+\", num2, \"=\", Calc(num1,num2).add())\n",
    "\n",
    "        elif choice == '2':\n",
    "            print(num1, \"-\", num2, \"=\", Calc(num1,num2).subtract())\n",
    "\n",
    "        elif choice == '3':\n",
    "            print(num1, \"*\", num2, \"=\",  Calc(num1,num2).multiply())\n",
    "\n",
    "        elif choice == '4':\n",
    "            print(num1, \"/\", num2, \"=\",  Calc(num1,num2).divide())\n",
    "        \n",
    "        # check if user wants another calculation\n",
    "        # break the while loop if answer is no\n",
    "        next_calculation = input(\"do you want to perform another calculations? 1:yes. , 2:no, please stop.\")\n",
    "        if next_calculation == \"2\":\n",
    "            break\n",
    "    \n",
    "    else:\n",
    "        print(\"Invalid Input\")"
   ]
  },
  {
   "cell_type": "code",
   "execution_count": null,
   "id": "4f5293d8",
   "metadata": {},
   "outputs": [],
   "source": []
  }
 ],
 "metadata": {
  "kernelspec": {
   "display_name": "Python 3 (ipykernel)",
   "language": "python",
   "name": "python3"
  },
  "language_info": {
   "codemirror_mode": {
    "name": "ipython",
    "version": 3
   },
   "file_extension": ".py",
   "mimetype": "text/x-python",
   "name": "python",
   "nbconvert_exporter": "python",
   "pygments_lexer": "ipython3",
   "version": "3.9.7"
  }
 },
 "nbformat": 4,
 "nbformat_minor": 5
}
